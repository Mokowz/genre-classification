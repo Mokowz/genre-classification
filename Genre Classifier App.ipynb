{
 "cells": [
  {
   "cell_type": "code",
   "execution_count": 1,
   "id": "a4f04319",
   "metadata": {},
   "outputs": [],
   "source": [
    "import warnings\n",
    "warnings.filterwarnings('ignore')"
   ]
  },
  {
   "cell_type": "code",
   "execution_count": 2,
   "id": "b6b24af9",
   "metadata": {},
   "outputs": [
    {
     "name": "stdout",
     "output_type": "stream",
     "text": [
      "Requirement already satisfied: spotipy in c:\\users\\ronni\\anaconda3\\lib\\site-packages (2.22.0)\n",
      "Requirement already satisfied: redis>=3.5.3 in c:\\users\\ronni\\anaconda3\\lib\\site-packages (from spotipy) (4.4.0)\n",
      "Requirement already satisfied: requests>=2.25.0 in c:\\users\\ronni\\anaconda3\\lib\\site-packages (from spotipy) (2.28.1)\n",
      "Requirement already satisfied: six>=1.15.0 in c:\\users\\ronni\\anaconda3\\lib\\site-packages (from spotipy) (1.16.0)\n",
      "Requirement already satisfied: urllib3>=1.26.0 in c:\\users\\ronni\\anaconda3\\lib\\site-packages (from spotipy) (1.26.11)\n",
      "Requirement already satisfied: async-timeout>=4.0.2 in c:\\users\\ronni\\anaconda3\\lib\\site-packages (from redis>=3.5.3->spotipy) (4.0.2)\n",
      "Requirement already satisfied: charset-normalizer<3,>=2 in c:\\users\\ronni\\anaconda3\\lib\\site-packages (from requests>=2.25.0->spotipy) (2.0.4)\n",
      "Requirement already satisfied: idna<4,>=2.5 in c:\\users\\ronni\\anaconda3\\lib\\site-packages (from requests>=2.25.0->spotipy) (3.3)\n",
      "Requirement already satisfied: certifi>=2017.4.17 in c:\\users\\ronni\\anaconda3\\lib\\site-packages (from requests>=2.25.0->spotipy) (2022.9.14)\n"
     ]
    }
   ],
   "source": [
    "!pip install spotipy"
   ]
  },
  {
   "cell_type": "code",
   "execution_count": 3,
   "id": "94d791f5",
   "metadata": {},
   "outputs": [],
   "source": [
    "import spotipy\n",
    "from spotipy.oauth2 import SpotifyClientCredentials"
   ]
  },
  {
   "cell_type": "code",
   "execution_count": 4,
   "id": "9dc8acbc",
   "metadata": {},
   "outputs": [],
   "source": [
    "cid = \"967ea998dca34b6a897edf6ad66bdb13\"\n",
    "csec = \"bdd75e6de00842b188eb901ab409d128\""
   ]
  },
  {
   "cell_type": "code",
   "execution_count": 5,
   "id": "07c491ea",
   "metadata": {},
   "outputs": [],
   "source": [
    "auth_man = SpotifyClientCredentials(client_id=cid, client_secret=csec)\n",
    "sp = spotipy.Spotify(auth_manager=auth_man)"
   ]
  },
  {
   "cell_type": "code",
   "execution_count": 6,
   "id": "0aef02a1",
   "metadata": {},
   "outputs": [
    {
     "data": {
      "text/plain": [
       "{'tracks': {'href': 'https://api.spotify.com/v1/search?query=artist%3AWizkid+track%3ASoko&type=track&offset=0&limit=10',\n",
       "  'items': [],\n",
       "  'limit': 10,\n",
       "  'next': None,\n",
       "  'offset': 0,\n",
       "  'previous': None,\n",
       "  'total': 0}}"
      ]
     },
     "execution_count": 6,
     "metadata": {},
     "output_type": "execute_result"
    }
   ],
   "source": [
    "artist= 'Wizkid'\n",
    "track= 'Soko'\n",
    "\n",
    "track_id = sp.search(q='artist:' + artist + ' track:' + track, type='track')\n",
    "track_id"
   ]
  },
  {
   "cell_type": "code",
   "execution_count": 7,
   "id": "d60c5f8a",
   "metadata": {},
   "outputs": [
    {
     "ename": "IndexError",
     "evalue": "list index out of range",
     "output_type": "error",
     "traceback": [
      "\u001b[1;31m---------------------------------------------------------------------------\u001b[0m",
      "\u001b[1;31mIndexError\u001b[0m                                Traceback (most recent call last)",
      "\u001b[1;32m~\\AppData\\Local\\Temp\\ipykernel_2732\\3922022338.py\u001b[0m in \u001b[0;36m<module>\u001b[1;34m\u001b[0m\n\u001b[1;32m----> 1\u001b[1;33m \u001b[0mtrackId\u001b[0m \u001b[1;33m=\u001b[0m \u001b[0mtrack_id\u001b[0m\u001b[1;33m[\u001b[0m\u001b[1;34m'tracks'\u001b[0m\u001b[1;33m]\u001b[0m\u001b[1;33m[\u001b[0m\u001b[1;34m'items'\u001b[0m\u001b[1;33m]\u001b[0m\u001b[1;33m[\u001b[0m\u001b[1;36m0\u001b[0m\u001b[1;33m]\u001b[0m\u001b[1;33m[\u001b[0m\u001b[1;34m'id'\u001b[0m\u001b[1;33m]\u001b[0m\u001b[1;33m\u001b[0m\u001b[1;33m\u001b[0m\u001b[0m\n\u001b[0m\u001b[0;32m      2\u001b[0m \u001b[0mtrackId\u001b[0m\u001b[1;33m\u001b[0m\u001b[1;33m\u001b[0m\u001b[0m\n",
      "\u001b[1;31mIndexError\u001b[0m: list index out of range"
     ]
    }
   ],
   "source": [
    "trackId = track_id['tracks']['items'][0]['id']\n",
    "trackId"
   ]
  },
  {
   "cell_type": "markdown",
   "id": "85c71cbb",
   "metadata": {},
   "source": [
    "### A function to get the track's id using the track and artist's name"
   ]
  },
  {
   "cell_type": "code",
   "execution_count": 8,
   "id": "92f9a8d7",
   "metadata": {},
   "outputs": [],
   "source": [
    "def getTrackId():\n",
    "    artist = input(\"Enter artist's name: \")\n",
    "    track = input(\"Enter the artist's song: \")\n",
    "    \n",
    "    track_id = sp.search(q='artist:' + artist + ' track:' + track, type='track')\n",
    "    if (track_id['tracks']['items'][0]['id']):\n",
    "        trackId = track_id['tracks']['items'][0]['id']\n",
    "    else:\n",
    "        print(\"This song has no ID. Try another one.\")\n",
    "        return\n",
    "    \n",
    "    return trackId"
   ]
  },
  {
   "cell_type": "code",
   "execution_count": 17,
   "id": "b1881693",
   "metadata": {},
   "outputs": [],
   "source": [
    "def getFeatures():\n",
    "    features = sp.audio_features(getTrackId())\n",
    "    \n",
    "    song = []\n",
    "\n",
    "#     song.append(features[0][\"duration_ms\"])\n",
    "    song.append(features[0][\"danceability\"])\n",
    "    song.append(features[0][\"energy\"])\n",
    "    song.append(features[0][\"key\"])\n",
    "    song.append(features[0][\"loudness\"])\n",
    "    song.append(features[0][\"mode\"])\n",
    "    song.append(features[0][\"speechiness\"])\n",
    "    song.append(features[0][\"acousticness\"])\n",
    "    song.append(features[0][\"instrumentalness\"])\n",
    "    song.append(features[0][\"liveness\"])\n",
    "    song.append(features[0][\"valence\"])\n",
    "    song.append(features[0][\"tempo\"])\n",
    "#     song.append(features[0][\"time_signature\"])\n",
    "    \n",
    "    import numpy as np\n",
    "\n",
    "    song = np.array(song).reshape(1, -1)\n",
    "    \n",
    "    return song"
   ]
  },
  {
   "cell_type": "code",
   "execution_count": 10,
   "id": "ae91d7cc",
   "metadata": {},
   "outputs": [
    {
     "name": "stdout",
     "output_type": "stream",
     "text": [
      "Enter artist's name: \n",
      "Enter the artist's song: \n"
     ]
    }
   ],
   "source": [
    "features = sp.audio_features(getTrackId())"
   ]
  },
  {
   "cell_type": "code",
   "execution_count": 11,
   "id": "d171e039",
   "metadata": {
    "scrolled": true
   },
   "outputs": [
    {
     "data": {
      "text/plain": [
       "[{'danceability': 0.799,\n",
       "  'energy': 0.738,\n",
       "  'key': 11,\n",
       "  'loudness': -7.535,\n",
       "  'mode': 0,\n",
       "  'speechiness': 0.351,\n",
       "  'acousticness': 0.035,\n",
       "  'instrumentalness': 0,\n",
       "  'liveness': 0.124,\n",
       "  'valence': 0.651,\n",
       "  'tempo': 145.041,\n",
       "  'type': 'audio_features',\n",
       "  'id': '0Yrn5bZOLjXdPqwhF7wBY9',\n",
       "  'uri': 'spotify:track:0Yrn5bZOLjXdPqwhF7wBY9',\n",
       "  'track_href': 'https://api.spotify.com/v1/tracks/0Yrn5bZOLjXdPqwhF7wBY9',\n",
       "  'analysis_url': 'https://api.spotify.com/v1/audio-analysis/0Yrn5bZOLjXdPqwhF7wBY9',\n",
       "  'duration_ms': 92798,\n",
       "  'time_signature': 4}]"
      ]
     },
     "execution_count": 11,
     "metadata": {},
     "output_type": "execute_result"
    }
   ],
   "source": [
    "features"
   ]
  },
  {
   "cell_type": "code",
   "execution_count": 12,
   "id": "94b2841b",
   "metadata": {},
   "outputs": [
    {
     "data": {
      "text/plain": [
       "[92798, 0.799, 0.738, 11, -7.535, 0, 0.351, 0.035, 0, 0.124, 0.651, 145.041, 4]"
      ]
     },
     "execution_count": 12,
     "metadata": {},
     "output_type": "execute_result"
    }
   ],
   "source": [
    "song = []\n",
    "\n",
    "# song.append(features[0][\"duration_ms\"])\n",
    "song.append(features[0][\"danceability\"])\n",
    "song.append(features[0][\"energy\"])\n",
    "song.append(features[0][\"key\"])\n",
    "song.append(features[0][\"loudness\"])\n",
    "song.append(features[0][\"mode\"])\n",
    "song.append(features[0][\"speechiness\"])\n",
    "song.append(features[0][\"acousticness\"])\n",
    "song.append(features[0][\"instrumentalness\"])\n",
    "song.append(features[0][\"liveness\"])\n",
    "song.append(features[0][\"valence\"])\n",
    "song.append(features[0][\"tempo\"])\n",
    "# song.append(features[0][\"time_signature\"])\n",
    "song"
   ]
  },
  {
   "cell_type": "code",
   "execution_count": 13,
   "id": "e79181b9",
   "metadata": {},
   "outputs": [],
   "source": [
    "# Load model\n",
    "import pickle\n",
    "\n",
    "model = pickle.load(open(\"Music Genre Classification.pkl\", \"rb\"))"
   ]
  },
  {
   "cell_type": "code",
   "execution_count": 14,
   "id": "2f60e9b3",
   "metadata": {},
   "outputs": [],
   "source": [
    "# Load the dataframe\n",
    "import pandas as pd\n",
    "\n",
    "songs = pd.read_csv(\"songs.csv\")"
   ]
  },
  {
   "cell_type": "code",
   "execution_count": 15,
   "id": "ed28481a",
   "metadata": {},
   "outputs": [
    {
     "data": {
      "text/plain": [
       "array([[ 9.27980e+04,  7.99000e-01,  7.38000e-01,  1.10000e+01,\n",
       "        -7.53500e+00,  0.00000e+00,  3.51000e-01,  3.50000e-02,\n",
       "         0.00000e+00,  1.24000e-01,  6.51000e-01,  1.45041e+02,\n",
       "         4.00000e+00]])"
      ]
     },
     "execution_count": 15,
     "metadata": {},
     "output_type": "execute_result"
    }
   ],
   "source": [
    "import numpy as np\n",
    "\n",
    "song = np.array(song).reshape(1, -1)\n",
    "song\n",
    "# from array import array\n",
    "\n",
    "# song = array(\"f\", song)\n",
    "# song.reshape(-1,1)\n",
    "# song"
   ]
  },
  {
   "cell_type": "code",
   "execution_count": 18,
   "id": "43d27e77",
   "metadata": {},
   "outputs": [
    {
     "name": "stdout",
     "output_type": "stream",
     "text": [
      "Enter artist's name: Kanye West\n",
      "Enter the artist's song: Famous\n",
      "iranian\n"
     ]
    }
   ],
   "source": [
    "def predict():\n",
    "    ex = getFeatures()\n",
    "    y_pred = model.predict(ex)\n",
    "    y_pred = int(y_pred)\n",
    "    y_pred\n",
    "\n",
    "    for index, row in songs.iterrows():\n",
    "        if (row[\"track_genre_code\"] == y_pred):\n",
    "            return (row[\"track_genre\"])\n",
    "            break\n",
    "            \n",
    "print(predict())"
   ]
  },
  {
   "cell_type": "code",
   "execution_count": null,
   "id": "a136519d",
   "metadata": {},
   "outputs": [],
   "source": []
  }
 ],
 "metadata": {
  "kernelspec": {
   "display_name": "Python 3 (ipykernel)",
   "language": "python",
   "name": "python3"
  },
  "language_info": {
   "codemirror_mode": {
    "name": "ipython",
    "version": 3
   },
   "file_extension": ".py",
   "mimetype": "text/x-python",
   "name": "python",
   "nbconvert_exporter": "python",
   "pygments_lexer": "ipython3",
   "version": "3.9.13"
  }
 },
 "nbformat": 4,
 "nbformat_minor": 5
}
